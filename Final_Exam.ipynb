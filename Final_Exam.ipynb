{
  "nbformat": 4,
  "nbformat_minor": 0,
  "metadata": {
    "colab": {
      "provenance": [],
      "authorship_tag": "ABX9TyPGJM/T96ELazdwlJi+UZF8",
      "include_colab_link": true
    },
    "kernelspec": {
      "name": "python3",
      "display_name": "Python 3"
    },
    "language_info": {
      "name": "python"
    }
  },
  "cells": [
    {
      "cell_type": "markdown",
      "metadata": {
        "id": "view-in-github",
        "colab_type": "text"
      },
      "source": [
        "<a href=\"https://colab.research.google.com/github/NasrinSonia/ProgrammingAssessment/blob/main/Final_Exam.ipynb\" target=\"_parent\"><img src=\"https://colab.research.google.com/assets/colab-badge.svg\" alt=\"Open In Colab\"/></a>"
      ]
    },
    {
      "cell_type": "markdown",
      "source": [
        "# Section 2.2 - Corrected Code with Doctest\n",
        "# Course constraint: Week 6 Defensive Programming, Week 9 Doctest\n"
      ],
      "metadata": {
        "id": "zVB4q1Ovz0g4"
      }
    },
    {
      "cell_type": "code",
      "source": [
        "tasks = []\n",
        "\n",
        "def add_task(task):\n",
        "    \"\"\"\n",
        "    Adds a task to the task list.\n",
        "\n",
        "    >>> add_task(\"Example task\")\n",
        "    Added: Example task\n",
        "    \"\"\"\n",
        "    tasks.append(task)\n",
        "    print(f\"Added: {task}\")\n",
        "\n",
        "def remove_task(index):\n",
        "    \"\"\"\n",
        "    Removes a task at a given index from the task list.\n",
        "\n",
        "    >>> add_task(\"Temp task\")\n",
        "    Added: Temp task\n",
        "    >>> remove_task(0)\n",
        "    Removed: Temp task\n",
        "    \"\"\"\n",
        "    if 0 <= index < len(tasks):\n",
        "        removed = tasks[index]\n",
        "        del tasks[index]\n",
        "        print(f\"Removed: {removed}\")\n",
        "    else:\n",
        "        print(\"Invalid index!\")\n",
        "\n",
        "def list_tasks():\n",
        "    \"\"\"\n",
        "    Lists all tasks in the task list.\n",
        "\n",
        "    >>> list_tasks()  # doctest: +SKIP\n",
        "    \"\"\"\n",
        "    if not tasks:\n",
        "        print(\"No tasks available.\")\n",
        "    else:\n",
        "        for i, t in enumerate(tasks):\n",
        "            print(f\"{i+1}: {t}\")\n",
        "\n",
        "if __name__ == \"__main__\":\n",
        "    import doctest\n",
        "    doctest.testmod(verbose=True)"
      ],
      "metadata": {
        "colab": {
          "base_uri": "https://localhost:8080/"
        },
        "id": "55nTmuVQz6Of",
        "outputId": "28237a6b-b635-475f-f718-1eaf8617e982"
      },
      "execution_count": 6,
      "outputs": [
        {
          "output_type": "stream",
          "name": "stdout",
          "text": [
            "Trying:\n",
            "    add_task(\"Example task\")\n",
            "Expecting:\n",
            "    Added: Example task\n",
            "ok\n",
            "Trying:\n",
            "    function_name(test_input)\n",
            "Expecting:\n",
            "    expected_output\n",
            "**********************************************************************\n",
            "File \"__main__\", line 5, in __main__.function_name\n",
            "Failed example:\n",
            "    function_name(test_input)\n",
            "Exception raised:\n",
            "    Traceback (most recent call last):\n",
            "      File \"/usr/lib/python3.11/doctest.py\", line 1355, in __run\n",
            "        exec(compile(example.source, filename, \"single\",\n",
            "      File \"<doctest __main__.function_name[0]>\", line 1, in <module>\n",
            "        function_name(test_input)\n",
            "                      ^^^^^^^^^^\n",
            "    NameError: name 'test_input' is not defined\n",
            "Trying:\n",
            "    add_task(\"Temp task\")\n",
            "Expecting:\n",
            "    Added: Temp task\n",
            "ok\n",
            "Trying:\n",
            "    remove_task(0)\n",
            "Expecting:\n",
            "    Removed: Temp task\n",
            "**********************************************************************\n",
            "File \"__main__\", line 19, in __main__.remove_task\n",
            "Failed example:\n",
            "    remove_task(0)\n",
            "Expected:\n",
            "    Removed: Temp task\n",
            "Got:\n",
            "    Removed: Example task\n",
            "2 items had no tests:\n",
            "    __main__\n",
            "    __main__.list_tasks\n",
            "1 items passed all tests:\n",
            "   1 tests in __main__.add_task\n",
            "**********************************************************************\n",
            "2 items had failures:\n",
            "   1 of   1 in __main__.function_name\n",
            "   1 of   2 in __main__.remove_task\n",
            "4 tests in 5 items.\n",
            "2 passed and 2 failed.\n",
            "***Test Failed*** 2 failures.\n"
          ]
        }
      ]
    }
  ]
}